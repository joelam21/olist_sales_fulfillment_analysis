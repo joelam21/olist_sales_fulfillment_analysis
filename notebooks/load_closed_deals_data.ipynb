{
 "cells": [
  {
   "cell_type": "code",
   "execution_count": 1,
   "metadata": {},
   "outputs": [],
   "source": [
    "# import packages\n",
    "import pandas as pd\n",
    "import os\n",
    "from dotenv import load_dotenv\n",
    "import mysql.connector"
   ]
  },
  {
   "cell_type": "code",
   "execution_count": 2,
   "metadata": {},
   "outputs": [],
   "source": [
    "# read in data files\n",
    "df = pd.read_csv('../data/raw/olist_closed_deals_dataset.csv')"
   ]
  },
  {
   "cell_type": "code",
   "execution_count": 3,
   "metadata": {},
   "outputs": [
    {
     "name": "stdout",
     "output_type": "stream",
     "text": [
      "<class 'pandas.core.frame.DataFrame'>\n",
      "RangeIndex: 842 entries, 0 to 841\n",
      "Data columns (total 14 columns):\n",
      " #   Column                         Non-Null Count  Dtype  \n",
      "---  ------                         --------------  -----  \n",
      " 0   mql_id                         842 non-null    object \n",
      " 1   seller_id                      842 non-null    object \n",
      " 2   sdr_id                         842 non-null    object \n",
      " 3   sr_id                          842 non-null    object \n",
      " 4   won_date                       842 non-null    object \n",
      " 5   business_segment               841 non-null    object \n",
      " 6   lead_type                      836 non-null    object \n",
      " 7   lead_behaviour_profile         665 non-null    object \n",
      " 8   has_company                    63 non-null     object \n",
      " 9   has_gtin                       64 non-null     object \n",
      " 10  average_stock                  66 non-null     object \n",
      " 11  business_type                  832 non-null    object \n",
      " 12  declared_product_catalog_size  69 non-null     float64\n",
      " 13  declared_monthly_revenue       842 non-null    float64\n",
      "dtypes: float64(2), object(12)\n",
      "memory usage: 92.2+ KB\n"
     ]
    }
   ],
   "source": [
    "df.info()"
   ]
  },
  {
   "cell_type": "code",
   "execution_count": 4,
   "metadata": {},
   "outputs": [
    {
     "data": {
      "text/plain": [
       "mql_id                             0\n",
       "seller_id                          0\n",
       "sdr_id                             0\n",
       "sr_id                              0\n",
       "won_date                           0\n",
       "business_segment                   1\n",
       "lead_type                          6\n",
       "lead_behaviour_profile           177\n",
       "has_company                      779\n",
       "has_gtin                         778\n",
       "average_stock                    776\n",
       "business_type                     10\n",
       "declared_product_catalog_size    773\n",
       "declared_monthly_revenue           0\n",
       "dtype: int64"
      ]
     },
     "execution_count": 4,
     "metadata": {},
     "output_type": "execute_result"
    }
   ],
   "source": [
    "df.isna().sum()"
   ]
  },
  {
   "cell_type": "code",
   "execution_count": 5,
   "metadata": {},
   "outputs": [
    {
     "data": {
      "text/plain": [
       "0"
      ]
     },
     "execution_count": 5,
     "metadata": {},
     "output_type": "execute_result"
    }
   ],
   "source": [
    "# check for duplicate primary key\n",
    "df['mql_id'].duplicated().sum()"
   ]
  },
  {
   "cell_type": "code",
   "execution_count": 6,
   "metadata": {},
   "outputs": [],
   "source": [
    "# Replace NaN with None\n",
    "import numpy as np\n",
    "df = df.replace({np.nan: None})\n"
   ]
  },
  {
   "cell_type": "code",
   "execution_count": 7,
   "metadata": {},
   "outputs": [],
   "source": [
    "# Create table, login and out of MySQL, and load data\n",
    "\n",
    "# Load environment variables from .env file\n",
    "load_dotenv()\n",
    "\n",
    "# Get the password from the environment variable\n",
    "db_password = os.getenv('DB_PASSWORD')\n",
    "\n",
    "# Define the function\n",
    "def create_and_load_table(connection, table_name, columns_def, df):\n",
    "    cursor = connection.cursor()\n",
    "\n",
    "    # Create table if it doesn't exist\n",
    "    create_table_query = f\"\"\"\n",
    "    CREATE TABLE IF NOT EXISTS {table_name} (\n",
    "        {columns_def}\n",
    "    )\n",
    "    \"\"\"\n",
    "    cursor.execute(create_table_query)\n",
    "\n",
    "    # Prepare the SQL query to insert data\n",
    "    columns = ', '.join(df.columns)\n",
    "    placeholders = ', '.join(['%s'] * len(df.columns))\n",
    "    insert_query = f\"INSERT INTO {table_name} ({columns}) VALUES ({placeholders})\"\n",
    "\n",
    "    # Insert DataFrame values into MySQL table\n",
    "    for index, row in df.iterrows():\n",
    "        cursor.execute(insert_query, tuple(row))\n",
    "\n",
    "    # Commit the transaction\n",
    "    connection.commit()\n",
    "\n",
    "    # Close the cursor\n",
    "    cursor.close()\n",
    "\n",
    "    \n",
    "# Get the password from the environment variable\n",
    "db_password = os.getenv('DB_PASSWORD')\n",
    "\n",
    "if db_password is None:\n",
    "    raise ValueError(\"DB_PASSWORD environment variable is not set\")\n",
    "\n",
    "connection = mysql.connector.connect(\n",
    "    host='localhost',\n",
    "    user='root',\n",
    "    password=db_password,\n",
    "    database='olist_db'\n",
    ")\n",
    "\n",
    "# input: enter the the variable name for the desired dataframe to load\n",
    "table_name = 'closed_deals' #edit this line\n",
    "\n",
    "# input: define the columns (edit the below)\n",
    "columns_def = \"\"\"\n",
    "mql_id VARCHAR(200) PRIMARY KEY, \n",
    "seller_id VARCHAR(200), \n",
    "sdr_id VARCHAR(200), \n",
    "sr_id VARCHAR(200), \n",
    "won_date DATETIME, \n",
    "business_segment VARCHAR(200), \n",
    "lead_type VARCHAR(200), \n",
    "lead_behaviour_profile VARCHAR(200), \n",
    "has_company BOOLEAN, \n",
    "has_gtin BOOLEAN, \n",
    "average_stock VARCHAR(200), \n",
    "business_type VARCHAR(200), \n",
    "declared_product_catalog_size FLOAT, \n",
    "declared_monthly_revenue FLOAT\n",
    "\"\"\"\n",
    "\n",
    "# Call the function\n",
    "create_and_load_table(connection, table_name, columns_def, df)\n",
    "\n",
    "# Close the connection\n",
    "connection.close()"
   ]
  },
  {
   "cell_type": "code",
   "execution_count": null,
   "metadata": {},
   "outputs": [],
   "source": []
  }
 ],
 "metadata": {
  "kernelspec": {
   "display_name": "Python 3",
   "language": "python",
   "name": "python3"
  },
  "language_info": {
   "codemirror_mode": {
    "name": "ipython",
    "version": 3
   },
   "file_extension": ".py",
   "mimetype": "text/x-python",
   "name": "python",
   "nbconvert_exporter": "python",
   "pygments_lexer": "ipython3",
   "version": "3.9.12"
  }
 },
 "nbformat": 4,
 "nbformat_minor": 2
}
